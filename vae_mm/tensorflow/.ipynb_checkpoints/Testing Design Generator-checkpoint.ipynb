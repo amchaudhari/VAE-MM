{
 "cells": [
  {
   "cell_type": "code",
   "execution_count": 101,
   "metadata": {},
   "outputs": [
    {
     "name": "stdout",
     "output_type": "stream",
     "text": [
      "The autoreload extension is already loaded. To reload it, use:\n",
      "  %reload_ext autoreload\n"
     ]
    },
    {
     "data": {
      "text/plain": [
       "<Figure size 432x288 with 0 Axes>"
      ]
     },
     "metadata": {},
     "output_type": "display_data"
    }
   ],
   "source": [
    "import os\n",
    "from pathlib import Path\n",
    "import tensorflow as tf\n",
    "import numpy as np\n",
    "import pandas as pd\n",
    "import json\n",
    "from sklearn.model_selection import train_test_split\n",
    "import ipywidgets as widgets\n",
    "from ipywidgets import interact, interactive, fixed, interact_manual\n",
    "\n",
    "import VariationalAutoencoder as VAE\n",
    "import DesignGenerator as DG\n",
    "import utils\n",
    "\n",
    "# from imgaug import augmenters\n",
    "import matplotlib.pyplot as plt\n",
    "import matplotlib\n",
    "%matplotlib inline\n",
    "# matplotlib.use('Agg')\n",
    "plt.gray()\n",
    "%load_ext autoreload\n",
    "%autoreload 2\n",
    "%reload_ext autoreload"
   ]
  },
  {
   "cell_type": "code",
   "execution_count": 125,
   "metadata": {},
   "outputs": [
    {
     "name": "stdout",
     "output_type": "stream",
     "text": [
      "WARNING:tensorflow:No training configuration found in the save file, so the model was *not* compiled. Compile it manually.\n",
      "WARNING:tensorflow:No training configuration found in the save file, so the model was *not* compiled. Compile it manually.\n",
      "WARNING:tensorflow:No training configuration found in the save file, so the model was *not* compiled. Compile it manually.\n"
     ]
    },
    {
     "ename": "NameError",
     "evalue": "name 'keras' is not defined",
     "output_type": "error",
     "traceback": [
      "\u001b[1;31m---------------------------------------------------------------------------\u001b[0m",
      "\u001b[1;31mNameError\u001b[0m                                 Traceback (most recent call last)",
      "\u001b[1;32m<ipython-input-125-938c43005171>\u001b[0m in \u001b[0;36m<module>\u001b[1;34m\u001b[0m\n\u001b[0;32m      8\u001b[0m \u001b[0mregressor_db\u001b[0m \u001b[1;33m=\u001b[0m \u001b[0mtf\u001b[0m\u001b[1;33m.\u001b[0m\u001b[0mkeras\u001b[0m\u001b[1;33m.\u001b[0m\u001b[0mmodels\u001b[0m\u001b[1;33m.\u001b[0m\u001b[0mload_model\u001b[0m\u001b[1;33m(\u001b[0m\u001b[1;34m'saved/regressor2.h5'\u001b[0m\u001b[1;33m)\u001b[0m\u001b[1;33m\u001b[0m\u001b[1;33m\u001b[0m\u001b[0m\n\u001b[0;32m      9\u001b[0m \u001b[0mdecoder_bitstring\u001b[0m \u001b[1;33m=\u001b[0m \u001b[0mtf\u001b[0m\u001b[1;33m.\u001b[0m\u001b[0mkeras\u001b[0m\u001b[1;33m.\u001b[0m\u001b[0mmodels\u001b[0m\u001b[1;33m.\u001b[0m\u001b[0mload_model\u001b[0m\u001b[1;33m(\u001b[0m\u001b[1;34m'saved\\encoder_bitstring.h5'\u001b[0m\u001b[1;33m)\u001b[0m\u001b[1;33m\u001b[0m\u001b[1;33m\u001b[0m\u001b[0m\n\u001b[1;32m---> 10\u001b[1;33m \u001b[0mregressor_db\u001b[0m\u001b[1;33m.\u001b[0m\u001b[0mcompile\u001b[0m\u001b[1;33m(\u001b[0m\u001b[0moptimizer\u001b[0m\u001b[1;33m=\u001b[0m\u001b[0mkeras\u001b[0m\u001b[1;33m.\u001b[0m\u001b[0moptimizers\u001b[0m\u001b[1;33m.\u001b[0m\u001b[0mAdam\u001b[0m\u001b[1;33m(\u001b[0m\u001b[1;33m)\u001b[0m\u001b[1;33m)\u001b[0m\u001b[1;33m\u001b[0m\u001b[1;33m\u001b[0m\u001b[0m\n\u001b[0m\u001b[0;32m     11\u001b[0m \u001b[1;33m\u001b[0m\u001b[0m\n\u001b[0;32m     12\u001b[0m \u001b[0mdesign_gen\u001b[0m \u001b[1;33m=\u001b[0m \u001b[0mDG\u001b[0m\u001b[1;33m.\u001b[0m\u001b[0mDesignGenerator\u001b[0m\u001b[1;33m(\u001b[0m\u001b[0mencoder_db\u001b[0m\u001b[1;33m,\u001b[0m \u001b[0mdecoder_db\u001b[0m\u001b[1;33m,\u001b[0m \u001b[0mregressor_db\u001b[0m\u001b[1;33m,\u001b[0m \u001b[0mdecoder_bitstring\u001b[0m\u001b[1;33m)\u001b[0m\u001b[1;33m\u001b[0m\u001b[1;33m\u001b[0m\u001b[0m\n",
      "\u001b[1;31mNameError\u001b[0m: name 'keras' is not defined"
     ]
    }
   ],
   "source": [
    "#Import trained variational autoencoder form the database\n",
    "vae_db = tf.saved_model.load('saved/vae2.h5')\n",
    "encoder_db = vae_db.encoder\n",
    "decoder_db = vae_db.decoder\n",
    "regressor_db = vae_db.regressor\n",
    "decoder_bitstring = tf.keras.models.load_model('saved\\encoder_bitstring.h5')\n",
    "# regressor_db.compile(optimizer=keras.optimizers.Adam())\n",
    "\n",
    "design_gen = DG.DesignGenerator(encoder_db, decoder_db, regressor_db, decoder_bitstring)"
   ]
  },
  {
   "cell_type": "code",
   "execution_count": 11,
   "metadata": {},
   "outputs": [],
   "source": [
    "#Import data\n",
    "df = pd.read_csv(\"saved/metamaterial_designs.csv\")\n",
    "df = df.fillna(method='ffill')\n",
    "#Designs\n",
    "X = df['image'].values\n",
    "X = np.array([json.loads(x) for x in X])\n",
    "# Number of lines\n",
    "lines = np.array([sum(json.loads(df['design_bitstring'][i])) for i in range(df.shape[0])])\n",
    "#Attributes\n",
    "Y = df[['vertical_lines', 'horizontal_lines', 'diagonals', 'triangles', 'three_stars']].values\n",
    "Y = Y/lines[:,None]\n",
    "means = np.mean(Y, axis=0, keepdims=True)\n",
    "stds = np.std(Y, axis=0, keepdims=True)\n",
    "Y = (Y-means)/stds\n",
    "#Objectives\n",
    "F = df[['obj1', 'obj2', 'constr1']].values"
   ]
  },
  {
   "cell_type": "markdown",
   "metadata": {},
   "source": [
    "### Sanity Check"
   ]
  },
  {
   "cell_type": "code",
   "execution_count": 27,
   "metadata": {},
   "outputs": [
    {
     "data": {
      "text/plain": [
       "Text(0.5, 1.0, 'Reconstructed')"
      ]
     },
     "execution_count": 27,
     "metadata": {},
     "output_type": "execute_result"
    },
    {
     "data": {
      "image/png": "[encoded data removed]",
      "text/plain": [
       "<Figure size 432x288 with 2 Axes>"
      ]
     },
     "metadata": {
      "needs_background": "light"
     },
     "output_type": "display_data"
    }
   ],
   "source": [
    "i = 126\n",
    "x = X[i].reshape(-1,28,28,1)\n",
    "y = Y[i][None,:]\n",
    "f = F[i][None,:]\n",
    "cond_dim = y.shape[1]\n",
    "n_sample = x.shape[0]\n",
    "fig, ax = plt.subplots(1,2)\n",
    "#Encoder\n",
    "y_ = y.reshape(-1,1,1,cond_dim)\n",
    "k = tf.ones([n_sample, 28, 28, 1])\n",
    "x_input = tf.concat([x, k*y_], 3)\n",
    "ax[0].imshow(1-x.squeeze())\n",
    "ax[0].set_title('Original')\n",
    "z_mu, z_log_sigma, z = encoder_db(x_input)\n",
    "#Decoder\n",
    "h = tf.concat([z, y], 1)\n",
    "x_reconstructed = decoder_db(h)\n",
    "ax[1].imshow(1-tf.squeeze(x_reconstructed))\n",
    "ax[1].set_title('Reconstructed')"
   ]
  },
  {
   "cell_type": "markdown",
   "metadata": {},
   "source": [
    "## 1. Driving features in given images"
   ]
  },
  {
   "cell_type": "code",
   "execution_count": 53,
   "metadata": {},
   "outputs": [
    {
     "name": "stdout",
     "output_type": "stream",
     "text": [
      "Input images:\n"
     ]
    },
    {
     "data": {
      "image/png": "[encoded data removed]",
      "text/plain": [
       "<Figure size 2160x216 with 1 Axes>"
      ]
     },
     "metadata": {
      "needs_background": "light"
     },
     "output_type": "display_data"
    },
    {
     "name": "stdout",
     "output_type": "stream",
     "text": [
      "Identified features:\n"
     ]
    },
    {
     "data": {
      "image/png": "[encoded data removed]",
      "text/plain": [
       "<Figure size 648x216 with 1 Axes>"
      ]
     },
     "metadata": {
      "needs_background": "light"
     },
     "output_type": "display_data"
    }
   ],
   "source": [
    "n_img = 15\n",
    "# idx_images = np.random.choice(range(X.shape[0]), n_img)\n",
    "idx1 = utils.is_pareto_efficient(F[:,0:2]*np.array([-1,1]))\n",
    "images = X[idx1,:].squeeze()\n",
    "attributes = Y[idx_images,:]\n",
    "reconstr_images = design_gen.get_driving_features(images, attributes, K=3)\n",
    "\n",
    "print(\"Input images:\")\n",
    "idx2 = np.random.randint(sum(idx1), size=10)\n",
    "utils.plot_1Dgrid_images(images[idx2].squeeze())\n",
    "print(\"Identified features:\")\n",
    "utils.plot_1Dgrid_images(reconstr_images.squeeze())"
   ]
  },
  {
   "cell_type": "markdown",
   "metadata": {},
   "source": [
    "## 2. Edit given image "
   ]
  },
  {
   "cell_type": "code",
   "execution_count": 119,
   "metadata": {},
   "outputs": [],
   "source": [
    "# Edit an image\n",
    "idx = np.random.choice(range(X.shape[0]), 1)\n",
    "image = X[idx,:].squeeze()\n",
    "attributes = Y[idx,:].squeeze()"
   ]
  },
  {
   "cell_type": "markdown",
   "metadata": {},
   "source": [
    "### Feature space exploration"
   ]
  },
  {
   "cell_type": "code",
   "execution_count": 122,
   "metadata": {},
   "outputs": [
    {
     "data": {
      "application/vnd.jupyter.widget-view+json": {
       "model_id": "d364c4c270ac498dbd37b09a20ed0008",
       "version_major": 2,
       "version_minor": 0
      },
      "text/plain": [
       "interactive(children=(FloatSlider(value=0.0, continuous_update=False, description='horizontal_lines', max=2.5,…"
      ]
     },
     "metadata": {},
     "output_type": "display_data"
    }
   ],
   "source": [
    "attribute_names = ['horizontal_lines', 'vertical_lines', 'diagonals', 'triangles', 'three_stars']\n",
    "objectives = ['Verical Stiffness', 'Volume Fraction', 'Feasibility']\n",
    "scale=2.5\n",
    "step=0.1\n",
    "image_size=28\n",
    "\n",
    "attr_sliders = list()\n",
    "for name in attribute_names:\n",
    "    attr_sliders.append(widgets.FloatSlider(\n",
    "        value=0,\n",
    "        min=-scale,\n",
    "        max=scale,\n",
    "        step=step,\n",
    "        description=name,\n",
    "        disabled=False,\n",
    "        continuous_update=False,\n",
    "        orientation='horizontal',\n",
    "        readout=True,\n",
    "        readout_format='.1f',\n",
    "    ))\n",
    "\n",
    "kwargs = {attribute_names[i]:slider for i, slider in enumerate(attr_sliders)}\n",
    "def plot_superposition_attributes(_image, _attr, **kwargs):\n",
    "    _reconstr_image = design_gen.superposition_attributes(_image, _attr, **kwargs)\n",
    "    fig, ax = plt.subplots(1,2)\n",
    "    ax[0].imshow(1-image.squeeze())\n",
    "    ax[0].set_title('Original')\n",
    "    ax[1].imshow(1-np.squeeze(_reconstr_image))\n",
    "    ax[1].set_title('Reconstructed')\n",
    "    \n",
    "f = interact(plot_superposition_attributes, \n",
    "            _image=fixed(image), \n",
    "            _attr=fixed(attributes), **kwargs)\n"
   ]
  },
  {
   "cell_type": "markdown",
   "metadata": {},
   "source": [
    "### Augmented feature space exploration"
   ]
  },
  {
   "cell_type": "code",
   "execution_count": 116,
   "metadata": {},
   "outputs": [],
   "source": [
    "ref_point = tf.constant([[1., 0., 1.]])\n",
    "eta_slider = widgets.FloatSlider(\n",
    "        value=0,\n",
    "        min=1,\n",
    "        max=10,\n",
    "        step=step,\n",
    "        description='Eta',\n",
    "        disabled=False,\n",
    "        continuous_update=False,\n",
    "        orientation='horizontal',\n",
    "        readout=True,\n",
    "        readout_format='.1f')"
   ]
  },
  {
   "cell_type": "code",
   "execution_count": 123,
   "metadata": {},
   "outputs": [
    {
     "data": {
      "application/vnd.jupyter.widget-view+json": {
       "model_id": "55cbd423cda240eaafdc307055f34d60",
       "version_major": 2,
       "version_minor": 0
      },
      "text/plain": [
       "interactive(children=(FloatSlider(value=5.7, continuous_update=False, description='Eta', max=10.0, min=1.0, re…"
      ]
     },
     "metadata": {},
     "output_type": "display_data"
    }
   ],
   "source": [
    "def plot_autosuperposition(_image, _attr, eta, ref_point):\n",
    "    _reconstr_image = design_gen.autosuperposition(_image, _attr, eta, ref_point, if_plot=True)\n",
    "    fig, ax = plt.subplots(1,2)\n",
    "    ax[0].imshow(1-image.squeeze())\n",
    "    ax[0].set_title('Original')\n",
    "    ax[1].imshow(1-np.squeeze(_reconstr_image))\n",
    "    ax[1].set_title('Reconstructed')\n",
    "out = interact(plot_autosuperposition, \n",
    "            _image=fixed(image), \n",
    "            _attr=fixed(attributes),\n",
    "            eta=eta_slider, \n",
    "            ref_point=fixed(ref_point))"
   ]
  },
  {
   "cell_type": "code",
   "execution_count": null,
   "metadata": {},
   "outputs": [],
   "source": []
  }
 ],
 "metadata": {
  "kernelspec": {
   "display_name": "Python 3",
   "language": "python",
   "name": "python3"
  },
  "language_info": {
   "codemirror_mode": {
    "name": "ipython",
    "version": 3
   },
   "file_extension": ".py",
   "mimetype": "text/x-python",
   "name": "python",
   "nbconvert_exporter": "python",
   "pygments_lexer": "ipython3",
   "version": "3.8.3"
  }
 },
 "nbformat": 4,
 "nbformat_minor": 4
}
